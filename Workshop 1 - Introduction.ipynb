{
 "cells": [
  {
   "cell_type": "markdown",
   "metadata": {},
   "source": [
    "# Welcome to Phys 77\n",
    "---\n",
    "### Who am I?\n",
    "Dar, PhD student in Physics, working in experimental quantum computing, [Quantum Nanoelectronic Lab](http://qnl.berkeley.edu).\n",
    "\n",
    "[DarDahlen@berkeley.edu](DarDahlen@berkeley.edu)  \n",
    "150 LeConte - W 4-6pm\n",
    "\n",
    "### My programming rules of thumb:\n",
    " 0) If you don't understand **why** it's working, you aren't done yet  \n",
    " 1) Google is your friend   \n",
    " 2) Someone, somewhere, has already tried to do what I'm trying to do  \n",
    " 3) Guess and check works suprisingly well  \n",
    " 4) RTFM  (Read the Manual)\n",
    "\n",
    "----\n",
    "### What are we doing?\n",
    "- **The Course - 10k Foot View**:  \n",
    "    What is not clear here will be explained in more detail on Monday. If you can't wait till then, the syllabus is on [bcourses.berkeley.edu](http://bcourses.berkeley.edu)\n",
    "    - Lectures - Mondays\n",
    "    - Workshops - Fridays (40% of your grade, **required attendence**)\n",
    "    - Homework (mostly python based, 40% of grade)\n",
    "    - Final Project (20% of grade)\n",
    "    \n",
    "    \n",
    "- **Workshops Specifically - Friday afternoons**:   \n",
    "    I am in charge of workshops, these will mostly be [pair programming](https://en.wikipedia.org/wiki/Pair_programming), working on homework or workshop specific assignments.  When a programming homework assignment is given out, I will randomly assign you into pairs (using python), each homework will be treated as a pair assignment, where you will each recieve the same grade. During workshops when there are homework assignments, we will be practicing pair programming, where one person \"drives\" and the other person gives advice.\n",
    "    \n",
    "    \n",
    "- **Today**:  \n",
    "    Today will be largely an introduction, explanation, and installation of Python.\n",
    "    - There is a sign-in sheet, sign in or you wont get credit for attendance today!\n",
    "    - [Github Repo for Workshops](https://github.com/dahlend/Physics77Fall17) - Where you can download the notebooks used in this class - https://github.com/dahlend/Physics77Fall17\n",
    "    - [Anaconda Python](https://www.continuum.io/downloads) - Probably the most common way of installing python. - https://www.continuum.io/downloads\n",
    "\n",
    "---\n",
    "### Goals for Today:\n",
    "    0) You can download this notebook from   github.com/dahlend/Physics77Fall17\n",
    "    1) Install Python 3.6 (via Anaconda)\n",
    "    2) Get Jupyter Running\n",
    "    3) Write a simple program\n",
    "    4) Bonus Problems at the bottom if you get bored\n",
    "    \n"
   ]
  },
  {
   "cell_type": "markdown",
   "metadata": {},
   "source": [
    "## Step 0 - Open this notebook\n",
    "\n",
    "#### github.com/dahlend/Physics77Fall17\n",
    "\n",
    "Click on \"Workshop 1 - Introduction\""
   ]
  },
  {
   "cell_type": "markdown",
   "metadata": {},
   "source": [
    "## Step 1 - What is Anaconda?\n",
    "\n",
    "Anaconda is a pre-packaged python that includes effectively all the tools we will use in this course. In addition, it allows us to install librarys we are missing in a very simple manner.\n",
    "\n",
    "Step 1 of today will be downloading and installing Anaconda.\n",
    "\n",
    "https://www.continuum.io/downloads\n",
    "\n",
    "Download and install Python 3.6 appropriate for your OS.\n",
    "\n",
    "\n"
   ]
  },
  {
   "cell_type": "markdown",
   "metadata": {},
   "source": [
    "## Step 2 - Run Jupyter\n",
    "\n",
    "Jupyter is a an interface for making it easy to run Python and see your result. This 'website' is actually a jupyter notebook.\n",
    "\n",
    "I'll show you what you can do:"
   ]
  },
  {
   "cell_type": "code",
   "execution_count": 1,
   "metadata": {},
   "outputs": [
    {
     "name": "stdout",
     "output_type": "stream",
     "text": [
      "We made this vector x:\n",
      "[ 0.          0.33069396  0.66138793  0.99208189  1.32277585  1.65346982\n",
      "  1.98416378  2.31485774  2.64555171  2.97624567  3.30693964  3.6376336\n",
      "  3.96832756  4.29902153  4.62971549  4.96040945  5.29110342  5.62179738\n",
      "  5.95249134  6.28318531]\n"
     ]
    },
    {
     "data": {
      "image/png": "[encoded data removed]",
      "text/plain": [
       "<matplotlib.figure.Figure at 0x26932e10438>"
      ]
     },
     "metadata": {},
     "output_type": "display_data"
    }
   ],
   "source": [
    "import matplotlib.pyplot as plt\n",
    "import numpy as np\n",
    "%matplotlib inline\n",
    "\n",
    "# Defines an x vector, going from 0 to 2 pi in 20 steps\n",
    "x = np.linspace(start=0, stop=2*np.pi, num=20)\n",
    "\n",
    "plt.plot(x, np.sin(2*x+np.pi/4), label='Sin') # Plot sin\n",
    "plt.plot(x, np.cos(x)*2, 'o-', label='Cos') # Plot cos\n",
    "plt.plot(x, np.tan(np.cos(x)), 'x-', label='Tan(cos)') # Plot tan(cos)\n",
    "\n",
    "plt.legend() # add a legend to the plot\n",
    "\n",
    "print(\"We made this vector x:\")\n",
    "print(x) # print the vector we made"
   ]
  },
  {
   "cell_type": "markdown",
   "metadata": {},
   "source": [
    "Now that you have anaconda installed, we will open a jupyter notebook.\n",
    "- if you are on mac/unix open \"terminal\"\n",
    "- If you are on windows open \"command prompt\"\n",
    "\n",
    "Then type in:  \n",
    "`jupyter notebook`"
   ]
  },
  {
   "cell_type": "markdown",
   "metadata": {},
   "source": [
    "## Step 3 - Run a simple program\n",
    "\n",
    "Take copy the code from above and run it, (shift + enter or ctrl + enter).\n",
    "\n",
    "Play around with it, delete a line, see what happens, programming is often a trial and error excercise.\n"
   ]
  },
  {
   "cell_type": "markdown",
   "metadata": {},
   "source": [
    "## Bonus Problems -\n",
    "Days where we don't have assigned homework will often include a bonus problem. These problems will often be at or beyond the limits of what have currently been covered in class. Don't feel bad if you currently have *NO* idea how to do it, by the end of the semester you should have the tools needed to attempt them!\n",
    "\n",
    "### Bonus 0 - \n",
    "\n",
    "Plot an exponential decay of the form:\n",
    "\n",
    "$y = e^{-t}$  \n",
    "\n",
    "With t going from 0 to 5.  \n",
    "\n",
    "Label the x-axis and y-axis appropriately, and put a title on the plot.  \n",
    "\n",
    "You might have to do some googling for this, the plotting tool we are using is called matplotlib.\n",
    "\n",
    "### Bonus 1\n",
    "\n",
    "If we list all the natural numbers below 10 that are multiples of 3 or 5, we get 3, 5, 6 and 9. The sum of these multiples is 23.\n",
    "\n",
    "Find the sum of all the multiples of 3 or 5 below 1000."
   ]
  },
  {
   "cell_type": "code",
   "execution_count": 2,
   "metadata": {},
   "outputs": [
    {
     "data": {
      "text/plain": [
       "<matplotlib.legend.Legend at 0x26932e50080>"
      ]
     },
     "execution_count": 2,
     "metadata": {},
     "output_type": "execute_result"
    },
    {
     "data": {
      "image/png": "[encoded data removed]",
      "text/plain": [
       "<matplotlib.figure.Figure at 0x269316f69e8>"
      ]
     },
     "metadata": {},
     "output_type": "display_data"
    }
   ],
   "source": [
    "#Bonus 0 (yay for 0-based indexing!!)\n",
    "\n",
    "import matplotlib.pyplot as plt\n",
    "%matplotlib inline\n",
    "import numpy as np\n",
    "\n",
    "t = np.linspace(start=0, stop=5, num=25)\n",
    "\n",
    "plt.plot(t, np.exp(-t), label='e^-t')\n",
    "\n",
    "#add axis labels\n",
    "plt.xlabel('t')\n",
    "plt.ylabel('y')\n",
    "\n",
    "plt.legend()\n",
    "#great documentation!"
   ]
  },
  {
   "cell_type": "code",
   "execution_count": 3,
   "metadata": {},
   "outputs": [
    {
     "name": "stdout",
     "output_type": "stream",
     "text": [
      "233168\n"
     ]
    }
   ],
   "source": [
    "#Bonus 1\n",
    "\n",
    "sum=0\n",
    "nums=''\n",
    "x=0\n",
    "\n",
    "for x in range(1, 1000):\n",
    "    if(x%3==0 or x%5==0):\n",
    "        nums+=str(x)+' '\n",
    "        sum+=x\n",
    "\n",
    "#print(nums)\n",
    "#because that's just too many numbers^\n",
    "\n",
    "print(sum)"
   ]
  },
  {
   "cell_type": "markdown",
   "metadata": {
    "collapsed": true
   },
   "source": [
    "# Step 2 in Detail"
   ]
  },
  {
   "cell_type": "code",
   "execution_count": 2,
   "metadata": {
    "collapsed": true
   },
   "outputs": [],
   "source": [
    "# Code comments start with a # symbol, which means python ignores the line after it\n",
    "\n",
    "# Many tools you need are in things called Libraries/Packages/Modules, \n",
    "# these libraries are often built for free by hobbyists\n",
    "\n",
    "# Python's primary plotting library is called matplotlib\n",
    "\n",
    "# Librarys are just Folders in your computer stored in a specific location\n",
    "# you can get to sub-folders with a . like so:\n",
    "\n",
    "# You will see this line of code very very often:\n",
    "import matplotlib.pyplot as plt \n",
    "\n",
    "# this essentially imports a folder called pyplot from the folder matplotlib\n",
    "# but since the name is kind of long, we can say import it but call it something\n",
    "# else, in this case we are calling it plt\n",
    "\n",
    "\n",
    "\n",
    "# another tool we will use very very often is Numpy\n",
    "# numpy is short for numerical python\n",
    "import numpy as np\n",
    "\n",
    "# as you google more and more you will see it is common practice to call\n",
    "# these libraries by thier short names, np and plt\n",
    "\n",
    "\n",
    "# This next line is not actually python, it is Jupyter\n",
    "%matplotlib inline\n",
    "# anytime you see a line start with % it is telling \n",
    "# jupyter to do something, in this case we are telling \n",
    "# jupyter that we are using matplotlib library, and we want plots \"inline\"\n",
    "# which means it plots it in the jupyter notebook.\n",
    "\n",
    "\n",
    "\n",
    "# Defines an x vector of 20 number, going from 0 to 2 pi\n",
    "x = np.linspace(start=0, stop=2*np.pi, num=20)"
   ]
  },
  {
   "cell_type": "markdown",
   "metadata": {},
   "source": [
    "What is going on here?\n",
    "\n",
    "We are calling np.linspace, which is a function from the numpy library.  \n",
    "Python functions are conceptually similar to a math function, where we pass it variables,  \n",
    "\n",
    "    start=0, stop=2*np.pi, num=20  \n",
    "and the function does something and has a result\n",
    "\n",
    "In math it would be something like `f(x, y, z)`, but in python:  \n",
    "\n",
    "    np.linspace(start=0, stop=2*np.pi, num=20)\n",
    "But now I want to keep track of the result of that function.\n",
    "So I assign it to a Variable, in this case called 'x'  \n",
    "\n",
    "    x = np.linspace(start=0, stop=2*np.pi, num=20)\n",
    "    \n",
    "from now on, any time I use `x` it is the result of that function (unless I redefine `x`)"
   ]
  },
  {
   "cell_type": "markdown",
   "metadata": {},
   "source": [
    "How did I know what variables a function accepts and what it does?\n",
    "\n",
    "Lets take a look at documentation:\n",
    "[np.linspace()](https://docs.scipy.org/doc/numpy/reference/generated/numpy.linspace.html)\n",
    "\n",
    "or:"
   ]
  },
  {
   "cell_type": "code",
   "execution_count": 3,
   "metadata": {},
   "outputs": [
    {
     "name": "stdout",
     "output_type": "stream",
     "text": [
      "Help on function linspace in module numpy.core.function_base:\n",
      "\n",
      "linspace(start, stop, num=50, endpoint=True, retstep=False, dtype=None)\n",
      "    Return evenly spaced numbers over a specified interval.\n",
      "    \n",
      "    Returns `num` evenly spaced samples, calculated over the\n",
      "    interval [`start`, `stop`].\n",
      "    \n",
      "    The endpoint of the interval can optionally be excluded.\n",
      "    \n",
      "    Parameters\n",
      "    ----------\n",
      "    start : scalar\n",
      "        The starting value of the sequence.\n",
      "    stop : scalar\n",
      "        The end value of the sequence, unless `endpoint` is set to False.\n",
      "        In that case, the sequence consists of all but the last of ``num + 1``\n",
      "        evenly spaced samples, so that `stop` is excluded.  Note that the step\n",
      "        size changes when `endpoint` is False.\n",
      "    num : int, optional\n",
      "        Number of samples to generate. Default is 50. Must be non-negative.\n",
      "    endpoint : bool, optional\n",
      "        If True, `stop` is the last sample. Otherwise, it is not included.\n",
      "        Default is True.\n",
      "    retstep : bool, optional\n",
      "        If True, return (`samples`, `step`), where `step` is the spacing\n",
      "        between samples.\n",
      "    dtype : dtype, optional\n",
      "        The type of the output array.  If `dtype` is not given, infer the data\n",
      "        type from the other input arguments.\n",
      "    \n",
      "        .. versionadded:: 1.9.0\n",
      "    \n",
      "    Returns\n",
      "    -------\n",
      "    samples : ndarray\n",
      "        There are `num` equally spaced samples in the closed interval\n",
      "        ``[start, stop]`` or the half-open interval ``[start, stop)``\n",
      "        (depending on whether `endpoint` is True or False).\n",
      "    step : float, optional\n",
      "        Only returned if `retstep` is True\n",
      "    \n",
      "        Size of spacing between samples.\n",
      "    \n",
      "    \n",
      "    See Also\n",
      "    --------\n",
      "    arange : Similar to `linspace`, but uses a step size (instead of the\n",
      "             number of samples).\n",
      "    logspace : Samples uniformly distributed in log space.\n",
      "    \n",
      "    Examples\n",
      "    --------\n",
      "    >>> np.linspace(2.0, 3.0, num=5)\n",
      "    array([ 2.  ,  2.25,  2.5 ,  2.75,  3.  ])\n",
      "    >>> np.linspace(2.0, 3.0, num=5, endpoint=False)\n",
      "    array([ 2. ,  2.2,  2.4,  2.6,  2.8])\n",
      "    >>> np.linspace(2.0, 3.0, num=5, retstep=True)\n",
      "    (array([ 2.  ,  2.25,  2.5 ,  2.75,  3.  ]), 0.25)\n",
      "    \n",
      "    Graphical illustration:\n",
      "    \n",
      "    >>> import matplotlib.pyplot as plt\n",
      "    >>> N = 8\n",
      "    >>> y = np.zeros(N)\n",
      "    >>> x1 = np.linspace(0, 10, N, endpoint=True)\n",
      "    >>> x2 = np.linspace(0, 10, N, endpoint=False)\n",
      "    >>> plt.plot(x1, y, 'o')\n",
      "    [<matplotlib.lines.Line2D object at 0x...>]\n",
      "    >>> plt.plot(x2, y + 0.5, 'o')\n",
      "    [<matplotlib.lines.Line2D object at 0x...>]\n",
      "    >>> plt.ylim([-0.5, 1])\n",
      "    (-0.5, 1)\n",
      "    >>> plt.show()\n",
      "\n"
     ]
    }
   ],
   "source": [
    "help(np.linspace) # Very helpful!"
   ]
  },
  {
   "cell_type": "code",
   "execution_count": 4,
   "metadata": {},
   "outputs": [
    {
     "name": "stdout",
     "output_type": "stream",
     "text": [
      "We made this vector x:\n",
      "[ 0.          0.33069396  0.66138793  0.99208189  1.32277585  1.65346982\n",
      "  1.98416378  2.31485774  2.64555171  2.97624567  3.30693964  3.6376336\n",
      "  3.96832756  4.29902153  4.62971549  4.96040945  5.29110342  5.62179738\n",
      "  5.95249134  6.28318531]\n"
     ]
    },
    {
     "data": {
      "image/png": "[encoded data removed]",
      "text/plain": [
       "<matplotlib.figure.Figure at 0x7fed3750b590>"
      ]
     },
     "metadata": {},
     "output_type": "display_data"
    }
   ],
   "source": [
    "plt.plot(x, np.sin(x), label='Sin') # Plot sin\n",
    "plt.plot(x, np.cos(x), 'o-', label='Cos') # Plot cos\n",
    "\n",
    "plt.legend() # add a legend to the plot\n",
    "\n",
    "print(\"We made this vector x:\")\n",
    "print(x) # print the vector we made"
   ]
  },
  {
   "cell_type": "code",
   "execution_count": 5,
   "metadata": {
    "scrolled": false
   },
   "outputs": [
    {
     "name": "stdout",
     "output_type": "stream",
     "text": [
      "Help on function plot in module matplotlib.pyplot:\n",
      "\n",
      "plot(*args, **kwargs)\n",
      "    Plot lines and/or markers to the\n",
      "    :class:`~matplotlib.axes.Axes`.  *args* is a variable length\n",
      "    argument, allowing for multiple *x*, *y* pairs with an\n",
      "    optional format string.  For example, each of the following is\n",
      "    legal::\n",
      "    \n",
      "        plot(x, y)        # plot x and y using default line style and color\n",
      "        plot(x, y, 'bo')  # plot x and y using blue circle markers\n",
      "        plot(y)           # plot y using x as index array 0..N-1\n",
      "        plot(y, 'r+')     # ditto, but with red plusses\n",
      "    \n",
      "    If *x* and/or *y* is 2-dimensional, then the corresponding columns\n",
      "    will be plotted.\n",
      "    \n",
      "    If used with labeled data, make sure that the color spec is not\n",
      "    included as an element in data, as otherwise the last case\n",
      "    ``plot(\"v\",\"r\", data={\"v\":..., \"r\":...)``\n",
      "    can be interpreted as the first case which would do ``plot(v, r)``\n",
      "    using the default line style and color.\n",
      "    \n",
      "    If not used with labeled data (i.e., without a data argument),\n",
      "    an arbitrary number of *x*, *y*, *fmt* groups can be specified, as in::\n",
      "    \n",
      "        a.plot(x1, y1, 'g^', x2, y2, 'g-')\n",
      "    \n",
      "    Return value is a list of lines that were added.\n",
      "    \n",
      "    By default, each line is assigned a different style specified by a\n",
      "    'style cycle'.  To change this behavior, you can edit the\n",
      "    axes.prop_cycle rcParam.\n",
      "    \n",
      "    The following format string characters are accepted to control\n",
      "    the line style or marker:\n",
      "    \n",
      "    ================    ===============================\n",
      "    character           description\n",
      "    ================    ===============================\n",
      "    ``'-'``             solid line style\n",
      "    ``'--'``            dashed line style\n",
      "    ``'-.'``            dash-dot line style\n",
      "    ``':'``             dotted line style\n",
      "    ``'.'``             point marker\n",
      "    ``','``             pixel marker\n",
      "    ``'o'``             circle marker\n",
      "    ``'v'``             triangle_down marker\n",
      "    ``'^'``             triangle_up marker\n",
      "    ``'<'``             triangle_left marker\n",
      "    ``'>'``             triangle_right marker\n",
      "    ``'1'``             tri_down marker\n",
      "    ``'2'``             tri_up marker\n",
      "    ``'3'``             tri_left marker\n",
      "    ``'4'``             tri_right marker\n",
      "    ``'s'``             square marker\n",
      "    ``'p'``             pentagon marker\n",
      "    ``'*'``             star marker\n",
      "    ``'h'``             hexagon1 marker\n",
      "    ``'H'``             hexagon2 marker\n",
      "    ``'+'``             plus marker\n",
      "    ``'x'``             x marker\n",
      "    ``'D'``             diamond marker\n",
      "    ``'d'``             thin_diamond marker\n",
      "    ``'|'``             vline marker\n",
      "    ``'_'``             hline marker\n",
      "    ================    ===============================\n",
      "    \n",
      "    \n",
      "    The following color abbreviations are supported:\n",
      "    \n",
      "    ==========  ========\n",
      "    character   color\n",
      "    ==========  ========\n",
      "    'b'         blue\n",
      "    'g'         green\n",
      "    'r'         red\n",
      "    'c'         cyan\n",
      "    'm'         magenta\n",
      "    'y'         yellow\n",
      "    'k'         black\n",
      "    'w'         white\n",
      "    ==========  ========\n",
      "    \n",
      "    In addition, you can specify colors in many weird and\n",
      "    wonderful ways, including full names (``'green'``), hex\n",
      "    strings (``'#008000'``), RGB or RGBA tuples (``(0,1,0,1)``) or\n",
      "    grayscale intensities as a string (``'0.8'``).  Of these, the\n",
      "    string specifications can be used in place of a ``fmt`` group,\n",
      "    but the tuple forms can be used only as ``kwargs``.\n",
      "    \n",
      "    Line styles and colors are combined in a single format string, as in\n",
      "    ``'bo'`` for blue circles.\n",
      "    \n",
      "    The *kwargs* can be used to set line properties (any property that has\n",
      "    a ``set_*`` method).  You can use this to set a line label (for auto\n",
      "    legends), linewidth, anitialising, marker face color, etc.  Here is an\n",
      "    example::\n",
      "    \n",
      "        plot([1,2,3], [1,2,3], 'go-', label='line 1', linewidth=2)\n",
      "        plot([1,2,3], [1,4,9], 'rs',  label='line 2')\n",
      "        axis([0, 4, 0, 10])\n",
      "        legend()\n",
      "    \n",
      "    If you make multiple lines with one plot command, the kwargs\n",
      "    apply to all those lines, e.g.::\n",
      "    \n",
      "        plot(x1, y1, x2, y2, antialiased=False)\n",
      "    \n",
      "    Neither line will be antialiased.\n",
      "    \n",
      "    You do not need to use format strings, which are just\n",
      "    abbreviations.  All of the line properties can be controlled\n",
      "    by keyword arguments.  For example, you can set the color,\n",
      "    marker, linestyle, and markercolor with::\n",
      "    \n",
      "        plot(x, y, color='green', linestyle='dashed', marker='o',\n",
      "             markerfacecolor='blue', markersize=12).\n",
      "    \n",
      "    See :class:`~matplotlib.lines.Line2D` for details.\n",
      "    \n",
      "    The kwargs are :class:`~matplotlib.lines.Line2D` properties:\n",
      "    \n",
      "      agg_filter: unknown\n",
      "      alpha: float (0.0 transparent through 1.0 opaque) \n",
      "      animated: [True | False] \n",
      "      antialiased or aa: [True | False] \n",
      "      axes: an :class:`~matplotlib.axes.Axes` instance \n",
      "      clip_box: a :class:`matplotlib.transforms.Bbox` instance \n",
      "      clip_on: [True | False] \n",
      "      clip_path: [ (:class:`~matplotlib.path.Path`, :class:`~matplotlib.transforms.Transform`) | :class:`~matplotlib.patches.Patch` | None ] \n",
      "      color or c: any matplotlib color \n",
      "      contains: a callable function \n",
      "      dash_capstyle: ['butt' | 'round' | 'projecting'] \n",
      "      dash_joinstyle: ['miter' | 'round' | 'bevel'] \n",
      "      dashes: sequence of on/off ink in points \n",
      "      drawstyle: ['default' | 'steps' | 'steps-pre' | 'steps-mid' | 'steps-post'] \n",
      "      figure: a :class:`matplotlib.figure.Figure` instance \n",
      "      fillstyle: ['full' | 'left' | 'right' | 'bottom' | 'top' | 'none'] \n",
      "      gid: an id string \n",
      "      label: string or anything printable with '%s' conversion. \n",
      "      linestyle or ls: ['solid' | 'dashed', 'dashdot', 'dotted' | (offset, on-off-dash-seq) | ``'-'`` | ``'--'`` | ``'-.'`` | ``':'`` | ``'None'`` | ``' '`` | ``''``]\n",
      "      linewidth or lw: float value in points \n",
      "      marker: :mod:`A valid marker style <matplotlib.markers>`\n",
      "      markeredgecolor or mec: any matplotlib color \n",
      "      markeredgewidth or mew: float value in points \n",
      "      markerfacecolor or mfc: any matplotlib color \n",
      "      markerfacecoloralt or mfcalt: any matplotlib color \n",
      "      markersize or ms: float \n",
      "      markevery: [None | int | length-2 tuple of int | slice | list/array of int | float | length-2 tuple of float]\n",
      "      path_effects: unknown\n",
      "      picker: float distance in points or callable pick function ``fn(artist, event)`` \n",
      "      pickradius: float distance in points \n",
      "      rasterized: [True | False | None] \n",
      "      sketch_params: unknown\n",
      "      snap: unknown\n",
      "      solid_capstyle: ['butt' | 'round' |  'projecting'] \n",
      "      solid_joinstyle: ['miter' | 'round' | 'bevel'] \n",
      "      transform: a :class:`matplotlib.transforms.Transform` instance \n",
      "      url: a url string \n",
      "      visible: [True | False] \n",
      "      xdata: 1D array \n",
      "      ydata: 1D array \n",
      "      zorder: any number \n",
      "    \n",
      "    kwargs *scalex* and *scaley*, if defined, are passed on to\n",
      "    :meth:`~matplotlib.axes.Axes.autoscale_view` to determine\n",
      "    whether the *x* and *y* axes are autoscaled; the default is\n",
      "    *True*.\n",
      "    \n",
      "    .. note::\n",
      "        In addition to the above described arguments, this function can take a\n",
      "        **data** keyword argument. If such a **data** argument is given, the\n",
      "        following arguments are replaced by **data[<arg>]**:\n",
      "    \n",
      "        * All arguments with the following names: 'x', 'y'.\n",
      "\n"
     ]
    }
   ],
   "source": [
    "help(plt.plot) # This one is super long"
   ]
  },
  {
   "cell_type": "code",
   "execution_count": null,
   "metadata": {
    "collapsed": true
   },
   "outputs": [],
   "source": []
  }
 ],
 "metadata": {
  "kernelspec": {
   "display_name": "Python 3",
   "language": "python",
   "name": "python3"
  },
  "language_info": {
   "codemirror_mode": {
    "name": "ipython",
    "version": 3
   },
   "file_extension": ".py",
   "mimetype": "text/x-python",
   "name": "python",
   "nbconvert_exporter": "python",
   "pygments_lexer": "ipython3",
   "version": "3.6.1"
  }
 },
 "nbformat": 4,
 "nbformat_minor": 2
}
