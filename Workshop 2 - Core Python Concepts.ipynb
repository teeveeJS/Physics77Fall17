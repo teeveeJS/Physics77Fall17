{
 "cells": [
  {
   "cell_type": "markdown",
   "metadata": {},
   "source": [
    "# Workshop 2 - Core Python Concepts\n",
    "### There is a sign-in sheet, sign in or you wont get credit for attendance today!\n",
    "    \n",
    "- **Today**:  \n",
    "    Today we will take our first steps in programming in python. We will only be using 'core' python functions. Todays workshop is focused on the fundamentals of programming.  \n",
    "    The next several fridays will be more like Labs, to get credit for the day you have to show that you have done all of the problems in todays workshop notebook.  I will briefly go over the pieces of this workshop at the beginning of class. Working together is encouraged, and don't be afraid to ask me questions. \n",
    "    \n",
    "    - [Github Repo for Workshops](https://github.com/dahlend/Physics77Fall17) - Where you can download the notebooks used in this class - https://github.com/dahlend/Physics77Fall17  \n",
    "\n",
    "---\n",
    "### Goals for Today:\n",
    "    You can download todays notebook from   github.com/dahlend/Physics77Fall17\n",
    "    0) Variables\n",
    "    1) What is a function\n",
    "    2) Take input from a command line\n",
    "    3) Conditional Statements\n",
    "    4) Loops\n",
    "    5) Combining loops and conditional statements\n",
    "    5) Create your own function\n",
    "    6) Practice Problems\n",
    "    "
   ]
  },
  {
   "cell_type": "markdown",
   "metadata": {},
   "source": [
    "### Running Python in Jupyter:\n",
    "\n",
    "You can run a 'block' of code with 'shift + enter' or 'ctrl + enter' or pressing the 'play' button at the top of the screen."
   ]
  },
  {
   "cell_type": "markdown",
   "metadata": {},
   "source": [
    "## Code Comments\n",
    "\n",
    "Comments in code exist to explain now the code works to others (or more commonly to yourself).\n",
    "\n",
    "A comment is ignored by python, it just Skips everything inside the comment.\n",
    "\n",
    "Comments are done with the # symbol.  Everything on the line AFTER the # is just ignored.\n",
    "\n",
    "*Add comments often!* It's easy to skip this, but it's super important. Comments in your code also show that you understand what you are doing, adding comments to code you submit for homework in this class can be the difference between a A and a B on an assignment."
   ]
  },
  {
   "cell_type": "markdown",
   "metadata": {},
   "source": [
    "## 0) Variables"
   ]
  },
  {
   "cell_type": "code",
   "execution_count": null,
   "metadata": {
    "collapsed": true
   },
   "outputs": [],
   "source": [
    "# in python (and almost every other programming language)\n",
    "# the = sign is a definition\n",
    "\n",
    "# For example, I can define a value 'x' to be 5:\n",
    "x = 5\n",
    "\n",
    "# or 'y' to be 'cat'\n",
    "y = 'cat'\n",
    "\n",
    "\n",
    "# lets look at our variables:\n",
    "x, y"
   ]
  },
  {
   "cell_type": "code",
   "execution_count": null,
   "metadata": {
    "collapsed": true
   },
   "outputs": [],
   "source": [
    "# These definitions always happen in this order\n",
    "# variable being set = value i'm setting it to\n",
    "\n",
    "# I can then do stuff with variables:\n",
    "a = 3\n",
    "b = 17\n",
    "\n",
    "c = a + b\n",
    "\n",
    "c"
   ]
  },
  {
   "cell_type": "markdown",
   "metadata": {},
   "source": [
    "## 1) Functions"
   ]
  },
  {
   "cell_type": "code",
   "execution_count": null,
   "metadata": {
    "collapsed": true
   },
   "outputs": [],
   "source": [
    "# A lot of programming is based on the concept of a function\n",
    "# a function in math is written like:\n",
    "\n",
    "# y = f(x)\n",
    "\n",
    "# where if I pass a value x to f, f(x) returns the value y\n",
    "# Similarly in python this is true:\n",
    "\n",
    "# I'll define an x in this case to be a list of numbers\n",
    "x = [1, 2, 3, 4]\n",
    "\n",
    "# now I can sum them, where sum(x) is a function which accepts x as an input\n",
    "sum(x) # 1 + 2 + 3 + 4 = 10"
   ]
  },
  {
   "cell_type": "code",
   "execution_count": null,
   "metadata": {
    "collapsed": true
   },
   "outputs": [],
   "source": [
    "# Note that print is a function!\n",
    "\n",
    "print(\"Hi, I'm a function\")"
   ]
  },
  {
   "cell_type": "code",
   "execution_count": null,
   "metadata": {
    "collapsed": true
   },
   "outputs": [],
   "source": [
    "# What if I don't know what a function does?\n",
    "# There's a function for that!\n",
    "\n",
    "help(sum)"
   ]
  },
  {
   "cell_type": "markdown",
   "metadata": {},
   "source": [
    "## 2) Input from command line"
   ]
  },
  {
   "cell_type": "code",
   "execution_count": null,
   "metadata": {
    "collapsed": true
   },
   "outputs": [],
   "source": [
    "# There are several ways to bring data into python, today we will use 'input'\n",
    "\n",
    "# This line of code takes input from the user, and sets a variable \n",
    "# to be the value which was entered.\n",
    "# In this case we enter a number and the variable \"num_from_input\" will be that value\n",
    "\n",
    "num_from_input = input(\"Heres an example of input, enter a number: \")\n",
    "\n",
    "# We can print that value back out to the user to show that it saved:\n",
    "print(\"You Entered: \", num_from_input)\n",
    "\n",
    "# Try it out, importantly try entering something which is NOT a number"
   ]
  },
  {
   "cell_type": "markdown",
   "metadata": {},
   "source": [
    "#### What Happened?\n",
    "\n",
    "After entering something which is not a number, what happened?  \n",
    "\n",
    "But the input line said to enter a number, and it didn't say an error when you ran it.  \n",
    "In general you can't trust people to put in the correct thing, so you need to **Check it!**\n",
    "\n",
    "The technical name for this is input \"sanitization\", but really it comes down to checking if the input is what you expect.\n",
    "\n",
    "An simple way around this is to ENFORCE the type you expect.\n",
    "\n",
    "In this case we want an integer."
   ]
  },
  {
   "cell_type": "code",
   "execution_count": null,
   "metadata": {
    "collapsed": true
   },
   "outputs": [],
   "source": [
    "# This line is the same as above, but I included int(), int is a function that makes\n",
    "# whatever is passed to it into an Integer, and if it can't do it, it raises an error\n",
    "num_from_input = int(input(\"Heres an example of input, enter a number: \"))\n",
    "\n",
    "print(\"You Entered: \", num_from_input)\n",
    "print(\"5 + (Your Number) = \", 5 + num_from_input)"
   ]
  },
  {
   "cell_type": "markdown",
   "metadata": {},
   "source": [
    "### Types of variables\n",
    "Python allows for many types of variables, above we demonstrated integers (ints),\n",
    "Here is a partial list of allowed values:\n",
    "\n",
    "|Type    | Name           | Example |  \n",
    "| -----  | -------------- | -------:|  \n",
    "|int()     | Integer        | 1337    | \n",
    "|float()   | decimal number | -2345.12|      \n",
    "|complex() | complex number | 7-1j    | \n",
    "|string()  | text           | \"Hello World\"| \n",
    "|list()    | list of things| ['c', 1, 3, 1j]|\n",
    "|bool()    | boolean (True or False)| True |\n"
   ]
  },
  {
   "cell_type": "markdown",
   "metadata": {},
   "source": [
    "## 3) Conditional Statements\n",
    "\n",
    "A conditional statement is often called an if statement.  \n",
    "\n",
    "It looks something like this:\n",
    "\n",
    "    if (some condition):  \n",
    "        if the condition is true, run code which is indented here\n",
    "    else:  \n",
    "        run this code if the condition is not met\n",
    "        "
   ]
  },
  {
   "cell_type": "code",
   "execution_count": null,
   "metadata": {
    "collapsed": true
   },
   "outputs": [],
   "source": [
    "# Set some variables\n",
    "a = float(input(\"Enter a number, a=\"))\n",
    "b = 4.0\n",
    "print(\"a =\", a, \"  ,b =\", b)\n",
    "\n",
    "\n",
    "# this line reads, if a is greater than b, print(\"a > b\")\n",
    "if a > b:\n",
    "    print(\"a > b\")\n",
    "else:  # if it is NOT the above condition, do this\n",
    "    print(\"a <= b\")\n",
    "    "
   ]
  },
  {
   "cell_type": "markdown",
   "metadata": {},
   "source": [
    "\n",
    "You can compare with the following operators:\n",
    "\n",
    "|Operator| Name|\n",
    "|:------:| ----|\n",
    "| >     | greater than|\n",
    "| <     | less than|\n",
    "| ==    | equal|\n",
    "| >=    | greater than or equal|\n",
    "| <=    | less than or equal|\n",
    "| !=    | not equal | \n",
    "\n",
    "Since = is use to define variables, we cant use it to compare two values, which is why there is =="
   ]
  },
  {
   "cell_type": "markdown",
   "metadata": {},
   "source": [
    "## 4) Loops\n",
    "\n",
    "Lets say I want to print out all the numbers from 1 through 10, and 2x their value"
   ]
  },
  {
   "cell_type": "code",
   "execution_count": null,
   "metadata": {
    "collapsed": true
   },
   "outputs": [],
   "source": [
    "# we can use a python function, range() to make a range of numbers\n",
    "\n",
    "# This makes a list of numbers from 1 to 10\n",
    "list_of_nums = range(1, 11)\n",
    "\n",
    "# range() doesn't include the last element, so no 11 in this case\n",
    "\n",
    "list(list_of_nums)  # We see we a have a list of numbers from 1 to 10"
   ]
  },
  {
   "cell_type": "code",
   "execution_count": null,
   "metadata": {
    "collapsed": true
   },
   "outputs": [],
   "source": [
    "# I want 2 * list_of_nums\n",
    "\n",
    "2 * list_of_nums"
   ]
  },
  {
   "cell_type": "markdown",
   "metadata": {},
   "source": [
    "Great! Now we have a list of 1 to 10, but I need to multiply everything by 2.\n",
    "\n",
    "Unfortunately I can't just print `2*list_of_nums`, but I CAN go through the list and  \n",
    "print 2\\*i for each number in the list"
   ]
  },
  {
   "cell_type": "code",
   "execution_count": null,
   "metadata": {
    "collapsed": true
   },
   "outputs": [],
   "source": [
    "# So lets 'iterate' through the list\n",
    "\n",
    "# This is done with a 'for' loop\n",
    "# as in \"For each number i in the list of numbers [1, 2, ..., 10]: run this code\"\n",
    "for i in list_of_nums:\n",
    "    print(\"i = \", i)\n",
    "    print(\"2*i = \", 2 * i)\n",
    "    \n",
    "# Code indented in the for loop repeats itself until it goes through all the numbers in the list"
   ]
  },
  {
   "cell_type": "markdown",
   "metadata": {},
   "source": [
    "## 5) Combining Concepts!\n",
    "\n",
    "Lets go through the numbers 1 through 10, and identify when we have found the number 6.\n",
    "\n",
    "This can be done by combining the two things above."
   ]
  },
  {
   "cell_type": "code",
   "execution_count": null,
   "metadata": {
    "collapsed": true
   },
   "outputs": [],
   "source": [
    "for i in list_of_nums:\n",
    "    if i == 6:\n",
    "        print(\"i is 6!!! Woo!\")\n",
    "    else:\n",
    "        print(\"i = \", i, \",  booo not 6 :(\")"
   ]
  },
  {
   "cell_type": "code",
   "execution_count": null,
   "metadata": {
    "collapsed": true
   },
   "outputs": [],
   "source": [
    "# What about listing all the numbers which are even from 1 to 10?\n",
    "for i in list_of_nums:\n",
    "    if i % 2 == 0:\n",
    "        print(\"I is even, i =\", i)"
   ]
  },
  {
   "cell_type": "markdown",
   "metadata": {},
   "source": [
    "### Digression\n",
    "What is this % thing?  It's called Modulo, if you haven't seen it before:\n",
    "\n",
    "The modulo is the remainder after a division, equivalently there is another operator //  \n",
    "which returns the divisible portion of the numerator. Examples might be more instructive:"
   ]
  },
  {
   "cell_type": "code",
   "execution_count": null,
   "metadata": {
    "collapsed": true
   },
   "outputs": [],
   "source": [
    "# 12 / 5 = 2 remainder 2\n",
    "print(\"12 / 5 =\", 12 // 5, 'remainder', 12 % 5)\n",
    "\n",
    "# 15 / 4 = 3 remainder 3\n",
    "print(\"15 / 4 =\", 15 // 4, 'remainder', 15 % 4)\n",
    "\n",
    "# 6 / 2 = 3 remainder 0\n",
    "# NOTE: when the remainder is 0 then 6 is divisible by 2\n",
    "\n",
    "# This is what is used above to decide when numbers are even.\n",
    "print(\"6 / 2 =\", 6 // 2, 'remainder', 6 % 2, \"  ,6 is divisible by 2. remainder = 0\")"
   ]
  },
  {
   "cell_type": "markdown",
   "metadata": {},
   "source": [
    "Let's say I want to count how many numbers there are which are divisible by 7 below 100?"
   ]
  },
  {
   "cell_type": "code",
   "execution_count": null,
   "metadata": {
    "collapsed": true
   },
   "outputs": [],
   "source": [
    "# First lets make a variable which keeps track of the number\n",
    "# of numbers which are divisible by 7, at first we haven't\n",
    "# found any yet, so it is 0.\n",
    "n_div_7 = 0\n",
    "\n",
    "for i in range(1, 100):\n",
    "    # For each number from 1 to 100 we check\n",
    "    # to see if it is divisible by 7, if it is, we add 1 to our counter\n",
    "    \n",
    "    # is i divisble by 7?\n",
    "    if i % 7 == 0:\n",
    "        # above we saw that if i % 7 == 0, you know that i is divisible by 7\n",
    "        print(i, \"is divisible by 7\")\n",
    "        \n",
    "        # so here the counter is set to the counter + 1\n",
    "        n_div_7 = n_div_7 + 1\n",
    "        \n",
    "print(\"There are\", n_div_7, \"numbers below 100 which are divisible by 7.\")"
   ]
  },
  {
   "cell_type": "markdown",
   "metadata": {},
   "source": [
    "## 6) Defining your own function\n"
   ]
  },
  {
   "cell_type": "code",
   "execution_count": null,
   "metadata": {
    "collapsed": true
   },
   "outputs": [],
   "source": [
    "# Below is a function definition in python, this allows you to define your own functions.\n",
    "# This function accepts these variables:\n",
    "#     Accepts:\n",
    "#         x - must be a number\n",
    "#         y - must also be a number\n",
    "#     Returns:\n",
    "#         x + y\n",
    "\n",
    "\n",
    "# def - short for defintion\n",
    "def my_sum(x, y):\n",
    "    return x + y\n",
    "\n",
    "my_sum(3, 5)"
   ]
  },
  {
   "cell_type": "code",
   "execution_count": null,
   "metadata": {
    "collapsed": true
   },
   "outputs": [],
   "source": [
    "def my_func(x, y):\n",
    "    print(\"Lets look at math operators in python:\")\n",
    "    print(\"X =\", x, \", Y =\", y)\n",
    "    print(\"X * Y = \", x * y)\n",
    "    print(\"X / Y = \", x / y)\n",
    "    print(\"X + Y = \", x + y)\n",
    "    print(\"X - Y = \", x - y)\n",
    "    print(\"X // Y = \", x // y)  # floor division\n",
    "    print(\"X % Y = \", x % y)  # Modulo\n",
    "    print(\"X to the power of Y you will have to look up!\")\n",
    "    \n",
    "    print(\"This function is going to return x+y\")    \n",
    "    return x + y\n",
    "\n",
    "\n",
    "# Now lets use the function we defined!\n",
    "my_func(x=6, y=7)"
   ]
  },
  {
   "cell_type": "markdown",
   "metadata": {},
   "source": [
    "# Problems:\n"
   ]
  },
  {
   "cell_type": "markdown",
   "metadata": {},
   "source": [
    "### Problem 0 - Using tools from sections (0, 1, 2) above:\n",
    "\n",
    "Write some code which takes 2 inputs from the user, puts the data into 2 variables, a, b, and multiplies the variables together.\n",
    "\n",
    "Make sure that if a user enters something which is NOT an integer it errors immediately!\n"
   ]
  },
  {
   "cell_type": "code",
   "execution_count": 1,
   "metadata": {
    "scrolled": true
   },
   "outputs": [
    {
     "name": "stdout",
     "output_type": "stream",
     "text": [
      "Please enter your first number: 3\n",
      "Please enter your second number: 5\n",
      "a * b =  15\n"
     ]
    }
   ],
   "source": [
    "# Your code goes here!\n",
    "a = int(input(\"Please enter your first number: \"))\n",
    "b = int(input(\"Please enter your second number: \"))\n",
    "\n",
    "print(\"a * b = \", a*b)"
   ]
  },
  {
   "cell_type": "markdown",
   "metadata": {},
   "source": [
    "### Problem 1 - sections (0, 1, 2):\n",
    "\n",
    "Same as above, but take 2 inputs, a, and b, and return a^b.\n",
    "\n",
    "**I haven't told you how to do powers in python! Google!**\n",
    "\n",
    "Google suggestion:  \n",
    "\"python exponent\"  \n"
   ]
  },
  {
   "cell_type": "code",
   "execution_count": 2,
   "metadata": {},
   "outputs": [
    {
     "name": "stdout",
     "output_type": "stream",
     "text": [
      "Please enter your first number (base): 3\n",
      "Please enter your second number (exponent): 7\n",
      "a^b =  2187\n"
     ]
    }
   ],
   "source": [
    "# Your code goes here!\n",
    "a = int(input(\"Please enter your first number (base): \"))\n",
    "b = int(input(\"Please enter your second number (exponent): \"))\n",
    "\n",
    "print(\"a^b = \", a**b)"
   ]
  },
  {
   "cell_type": "markdown",
   "metadata": {},
   "source": [
    "### Problem 2 - sections (0, 1, 2, 4):\n",
    "\n",
    "What does this equal:  \n",
    "$$-4 + 4\\cdot \\sum_{k=1}^{10^6} \\frac{(-1)^{k+1}}{2k-1}$$\n",
    "\n",
    "#### Hint:\n",
    "You can use a for loop like this:"
   ]
  },
  {
   "cell_type": "code",
   "execution_count": null,
   "metadata": {
    "collapsed": true
   },
   "outputs": [],
   "source": [
    "val = 0\n",
    "\n",
    "for k in range(1000):\n",
    "    # each k is added to the previous val and val is updated to that\n",
    "    val = val + k\n",
    "\n",
    "val"
   ]
  },
  {
   "cell_type": "code",
   "execution_count": 1,
   "metadata": {},
   "outputs": [
    {
     "name": "stdout",
     "output_type": "stream",
     "text": [
      "the sum is: 3.1415916535897743\n"
     ]
    }
   ],
   "source": [
    "# Your Code goes here\n",
    "\n",
    "summation = 0\n",
    "\n",
    "for k in range(1, 10**6+1):\n",
    "    summation += (-1)**(k+1)/(2*k-1)\n",
    "\n",
    "print(\"the sum is:\", 4*summation)"
   ]
  },
  {
   "cell_type": "markdown",
   "metadata": {},
   "source": [
    "### Problem 3  - sections (0, 1, 2, 3, 4 ,5):\n",
    "\n",
    "How many numbers from 1 to 2000 are divisible by both 3, and 7?\n",
    "\n",
    "(Use the Modulo operator % - see above)\n",
    "\n",
    "##### Helpful Hint:  \n",
    "You can combine conditional statements like so:"
   ]
  },
  {
   "cell_type": "code",
   "execution_count": null,
   "metadata": {
    "collapsed": true
   },
   "outputs": [],
   "source": [
    "a = 2\n",
    "b = 6.\n",
    "\n",
    "if a == 2 and b < 7.14:\n",
    "    print(\"a == 2 AND b < 7.14\")\n",
    "else:\n",
    "    print(\"Either a != 2 or b > 7.14, I can't tell the difference\")"
   ]
  },
  {
   "cell_type": "code",
   "execution_count": 4,
   "metadata": {},
   "outputs": [
    {
     "name": "stdout",
     "output_type": "stream",
     "text": [
      "95 numbers between 1 and 2000 are divisible by 3 and 7\n"
     ]
    }
   ],
   "source": [
    "# Your code goes here!\n",
    "\n",
    "count = 0\n",
    "for x in range(1, 2001):\n",
    "    if(x%3==0 and x%7==0):\n",
    "        count += 1\n",
    "print(count, \"numbers between 1 and 2000 are divisible by 3 and 7\")"
   ]
  },
  {
   "cell_type": "markdown",
   "metadata": {},
   "source": [
    "### Problem 4 - sections (0, 1, 2, 3, 4 ,5):\n",
    "\n",
    "For each number i, from 1 to 10000, tell me how many meet this condition:\n",
    "\n",
    "`10000 <  i^3. - 0.5*i^2.9999 - 0.5*i^3.0001 + 50*i < 14125`\n"
   ]
  },
  {
   "cell_type": "code",
   "execution_count": 5,
   "metadata": {},
   "outputs": [
    {
     "name": "stdout",
     "output_type": "stream",
     "text": [
      "82 numbers between 1 and 10000 satisfy the conditions\n"
     ]
    }
   ],
   "source": [
    "# Your code here!\n",
    "\n",
    "count = 0\n",
    "\n",
    "for i in range (1, 10000):\n",
    "    y = i**3 - 0.5*(i**2.9999) - 0.5*(i**3.0001) + 50*i\n",
    "    if(y>10000 and y<14125):\n",
    "        # print(i)\n",
    "        count+=1\n",
    "print(count, \"numbers between 1 and 10000 satisfy the conditions\")"
   ]
  },
  {
   "cell_type": "markdown",
   "metadata": {},
   "source": [
    "### Problem 5 - All Sections!\n",
    "\n",
    "This problem is different then the last, I'm providing you with ~80 lines of code which I have already written.\n",
    " \n",
    "You have to make the correct changes to ~2 of the lines.  \n",
    "\n",
    "When this is done it will be a not-quite perfect simulation of ball falling in gravity.  \n",
    " \n",
    "Here is an outline of how this works:\n",
    "\n",
    "There are two functions here, one of which is the simulation, which you shouldn't edit.  \n",
    "The other function is \"update_motion\", inside this function there are currently the statements:\n",
    "\n",
    "`v_final = v`   \n",
    "`y_final = y`\n",
    " \n",
    " \n",
    " You need to update these lines to correctly calculate the position/velocity of a ball as it falls.\n",
    " \n",
    " No calculus is required, if the ball is falling at velocity v, is at position y,\n",
    " where will it be at some small time later dt, and how fast will it be going.\n",
    " \n",
    " If you update those lines correctly, when you run this code you will see a simple simulation of a ball bouncing.\n"
   ]
  },
  {
   "cell_type": "code",
   "execution_count": 6,
   "metadata": {},
   "outputs": [
    {
     "name": "stdout",
     "output_type": "stream",
     "text": [
      "Simulating 10.0 seconds of time in 1000 steps.\n"
     ]
    },
    {
     "data": {
      "image/png": "[encoded data removed]",
      "text/plain": [
       "<matplotlib.figure.Figure at 0x2a4ee8e6400>"
      ]
     },
     "metadata": {},
     "output_type": "display_data"
    }
   ],
   "source": [
    "y_init = 20  # meters, initial position of the ball\n",
    "v_init = 0.0  # m/s, initial velocity of the ball\n",
    "gravity = -9.81  # m/s^2\n",
    "\n",
    "dt = 0.01  # seconds, how much time between timesteps\n",
    "n_timesteps = 1000  # how many steps of time \n",
    "\n",
    "\n",
    "def update_motion(y, v, dt):\n",
    "    \"\"\"This function takes the y-position of a ball, the velocity in the y direction,\n",
    "    and how much time has passed, and returns where the ball will be at the next point in time.\n",
    "     y - Current position in meters\n",
    "     v - current velocity in meters/second\n",
    "     dt - how much time is passing\n",
    "    \"\"\"\n",
    "    \n",
    "    #  The ball is currently at velocity v, and is at position x\n",
    "    #  where will it be some time dt later?\n",
    "    y_final = y+v*dt      # Put the correct equations of motion here!\n",
    "    \n",
    "    # Similarly, how will it's velocity change due to gravity?\n",
    "    v_final = v+gravity*dt      # Put the correct equations of motion here!\n",
    "    \n",
    "    return y_final, v_final\n",
    "\n",
    "\n",
    "def run_simulation(y_0, v_0, dt, n_steps):\n",
    "    \"\"\"Runs a simulation of a ball, the update of position and velocity,\n",
    "    is done by evaluating the function update_motion with the current\n",
    "    position, velocity and how much time has elapsed between timesteps.\n",
    "    At the end of the simulation it plots the results.\"\"\"\n",
    "    \n",
    "    # We need to keep track of all of the positions and velocities\n",
    "    # that we calculate so that we can plot the results of our\n",
    "    # simulation.\n",
    "    \n",
    "    # To do this we make a list, which is empty, then add\n",
    "    # our calculated values to the list. We will return the\n",
    "    # values and plot them afterward.\n",
    "    y_history = []\n",
    "    v_history = []\n",
    "    time_history = []\n",
    "\n",
    "    print(\"Simulating {} seconds of time in {} steps.\".format(n_timesteps * dt, n_timesteps))\n",
    "\n",
    "    y_current = y_0\n",
    "    v_current = v_0\n",
    "    for step_i in range(0, n_timesteps):\n",
    "        y_history.append(y_current)\n",
    "        v_history.append(v_current)\n",
    "        time_history.append(step_i*dt)\n",
    "        \n",
    "        y_current, v_current = update_motion(y_current, v_current, dt)\n",
    "        \n",
    "        # If the ball is below 0, it should bounce,\n",
    "        # This means its velocity will change sign\n",
    "        if y_current <= 0:\n",
    "            v_current = -v_current\n",
    "        \n",
    "        \n",
    "    # The rest of the code is for plotting only!\n",
    "    # all the numerical simulation happened the the lines above\n",
    "    import matplotlib.pyplot as plt\n",
    "    get_ipython().magic(u'matplotlib inline')\n",
    "\n",
    "    plt.figure(figsize=(8,6))\n",
    "    plt.subplot(2,1,1)\n",
    "    plt.plot(time_history, y_history, label='Ball Position')\n",
    "    plt.axhline(0, color='black', label='Ground')\n",
    "    plt.legend()\n",
    "    plt.ylabel(\"Height (m)\")\n",
    "    plt.title(\"Height of the ball\");\n",
    "\n",
    "    plt.subplot(2,1,2)\n",
    "    plt.plot(time_history, v_history, color='green')\n",
    "    plt.xlabel(\"Time (s)\")\n",
    "    plt.ylabel(\"Velocity (m/s)\")\n",
    "    plt.title(\"Velocity of the ball\");\n",
    "    plt.tight_layout()\n",
    "\n",
    "run_simulation(y_init, v_init, dt, n_timesteps)\n"
   ]
  }
 ],
 "metadata": {
  "kernelspec": {
   "display_name": "Python 3",
   "language": "python",
   "name": "python3"
  },
  "language_info": {
   "codemirror_mode": {
    "name": "ipython",
    "version": 3
   },
   "file_extension": ".py",
   "mimetype": "text/x-python",
   "name": "python",
   "nbconvert_exporter": "python",
   "pygments_lexer": "ipython3",
   "version": "3.6.1"
  }
 },
 "nbformat": 4,
 "nbformat_minor": 2
}
